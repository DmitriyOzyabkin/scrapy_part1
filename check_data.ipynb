{
 "cells": [
  {
   "cell_type": "code",
   "execution_count": 23,
   "metadata": {},
   "outputs": [],
   "source": [
    "import pandas as pd"
   ]
  },
  {
   "cell_type": "code",
   "execution_count": 24,
   "metadata": {},
   "outputs": [
    {
     "data": {
      "text/html": [
       "<div>\n",
       "<style scoped>\n",
       "    .dataframe tbody tr th:only-of-type {\n",
       "        vertical-align: middle;\n",
       "    }\n",
       "\n",
       "    .dataframe tbody tr th {\n",
       "        vertical-align: top;\n",
       "    }\n",
       "\n",
       "    .dataframe thead th {\n",
       "        text-align: right;\n",
       "    }\n",
       "</style>\n",
       "<table border=\"1\" class=\"dataframe\">\n",
       "  <thead>\n",
       "    <tr style=\"text-align: right;\">\n",
       "      <th></th>\n",
       "      <th>id</th>\n",
       "      <th>isbn</th>\n",
       "      <th>genre</th>\n",
       "      <th>title</th>\n",
       "      <th>author</th>\n",
       "      <th>rate</th>\n",
       "      <th>book_url</th>\n",
       "    </tr>\n",
       "  </thead>\n",
       "  <tbody>\n",
       "    <tr>\n",
       "      <th>0</th>\n",
       "      <td>999404</td>\n",
       "      <td>9785222413173</td>\n",
       "      <td>[Современная зарубежная проза]</td>\n",
       "      <td>Железный Принц. Первая книга цикла Войнорожден...</td>\n",
       "      <td>[О`Коннор Брайс, Чмиленко Люк]</td>\n",
       "      <td>0.00</td>\n",
       "      <td>https://www.labirint.ru/books/999404/</td>\n",
       "    </tr>\n",
       "    <tr>\n",
       "      <th>1</th>\n",
       "      <td>999403</td>\n",
       "      <td>9785222413166</td>\n",
       "      <td>[Современная зарубежная проза]</td>\n",
       "      <td>Железный Принц. Том 2</td>\n",
       "      <td>[О`Коннор Брайс, Чмиленко Люк]</td>\n",
       "      <td>0.00</td>\n",
       "      <td>https://www.labirint.ru/books/999403/</td>\n",
       "    </tr>\n",
       "    <tr>\n",
       "      <th>2</th>\n",
       "      <td>1004119</td>\n",
       "      <td>978-5-222-40392-1</td>\n",
       "      <td>[Современная отечественная проза]</td>\n",
       "      <td>Странный мир. Истории о небывалом</td>\n",
       "      <td>[Логинов Святослав Владимирович]</td>\n",
       "      <td>8.20</td>\n",
       "      <td>https://www.labirint.ru/books/1004119/</td>\n",
       "    </tr>\n",
       "    <tr>\n",
       "      <th>3</th>\n",
       "      <td>1003729</td>\n",
       "      <td>978-5-00222-320-6</td>\n",
       "      <td>[Современная отечественная проза]</td>\n",
       "      <td>[Русская Хтонь. Лучшие крипипасты]</td>\n",
       "      <td>[Нигматулин М. В.]</td>\n",
       "      <td>3.80</td>\n",
       "      <td>https://www.labirint.ru/books/1003729/</td>\n",
       "    </tr>\n",
       "    <tr>\n",
       "      <th>4</th>\n",
       "      <td>999400</td>\n",
       "      <td>9785222396926</td>\n",
       "      <td>[Современная отечественная проза]</td>\n",
       "      <td>Мы все мертвы</td>\n",
       "      <td>[Вайолет Анастасия]</td>\n",
       "      <td>7.27</td>\n",
       "      <td>https://www.labirint.ru/books/999400/</td>\n",
       "    </tr>\n",
       "  </tbody>\n",
       "</table>\n",
       "</div>"
      ],
      "text/plain": [
       "        id               isbn                              genre  \\\n",
       "0   999404      9785222413173     [Современная зарубежная проза]   \n",
       "1   999403      9785222413166     [Современная зарубежная проза]   \n",
       "2  1004119  978-5-222-40392-1  [Современная отечественная проза]   \n",
       "3  1003729  978-5-00222-320-6  [Современная отечественная проза]   \n",
       "4   999400      9785222396926  [Современная отечественная проза]   \n",
       "\n",
       "                                               title  \\\n",
       "0  Железный Принц. Первая книга цикла Войнорожден...   \n",
       "1                              Железный Принц. Том 2   \n",
       "2                  Странный мир. Истории о небывалом   \n",
       "3                 [Русская Хтонь. Лучшие крипипасты]   \n",
       "4                                      Мы все мертвы   \n",
       "\n",
       "                             author  rate  \\\n",
       "0    [О`Коннор Брайс, Чмиленко Люк]  0.00   \n",
       "1    [О`Коннор Брайс, Чмиленко Люк]  0.00   \n",
       "2  [Логинов Святослав Владимирович]  8.20   \n",
       "3                [Нигматулин М. В.]  3.80   \n",
       "4               [Вайолет Анастасия]  7.27   \n",
       "\n",
       "                                 book_url  \n",
       "0   https://www.labirint.ru/books/999404/  \n",
       "1   https://www.labirint.ru/books/999403/  \n",
       "2  https://www.labirint.ru/books/1004119/  \n",
       "3  https://www.labirint.ru/books/1003729/  \n",
       "4   https://www.labirint.ru/books/999400/  "
      ]
     },
     "execution_count": 24,
     "metadata": {},
     "output_type": "execute_result"
    }
   ],
   "source": [
    "data = pd.read_json(\"labirint_books.json\", lines=True)\n",
    "data.head()"
   ]
  },
  {
   "cell_type": "code",
   "execution_count": 25,
   "metadata": {},
   "outputs": [
    {
     "name": "stdout",
     "output_type": "stream",
     "text": [
      "<class 'pandas.core.frame.DataFrame'>\n",
      "RangeIndex: 755 entries, 0 to 754\n",
      "Data columns (total 7 columns):\n",
      " #   Column    Non-Null Count  Dtype  \n",
      "---  ------    --------------  -----  \n",
      " 0   id        755 non-null    int64  \n",
      " 1   isbn      755 non-null    object \n",
      " 2   genre     755 non-null    object \n",
      " 3   title     755 non-null    object \n",
      " 4   author    755 non-null    object \n",
      " 5   rate      755 non-null    float64\n",
      " 6   book_url  755 non-null    object \n",
      "dtypes: float64(1), int64(1), object(5)\n",
      "memory usage: 41.4+ KB\n"
     ]
    }
   ],
   "source": [
    "data.info()"
   ]
  },
  {
   "cell_type": "code",
   "execution_count": 26,
   "metadata": {},
   "outputs": [
    {
     "data": {
      "text/plain": [
       "id          0\n",
       "isbn        0\n",
       "genre       0\n",
       "title       0\n",
       "author      0\n",
       "rate        0\n",
       "book_url    0\n",
       "dtype: int64"
      ]
     },
     "execution_count": 26,
     "metadata": {},
     "output_type": "execute_result"
    }
   ],
   "source": [
    "# Проверка на пустые значения\n",
    "data.isna().sum()"
   ]
  },
  {
   "cell_type": "code",
   "execution_count": 27,
   "metadata": {},
   "outputs": [
    {
     "data": {
      "text/html": [
       "<div>\n",
       "<style scoped>\n",
       "    .dataframe tbody tr th:only-of-type {\n",
       "        vertical-align: middle;\n",
       "    }\n",
       "\n",
       "    .dataframe tbody tr th {\n",
       "        vertical-align: top;\n",
       "    }\n",
       "\n",
       "    .dataframe thead th {\n",
       "        text-align: right;\n",
       "    }\n",
       "</style>\n",
       "<table border=\"1\" class=\"dataframe\">\n",
       "  <thead>\n",
       "    <tr style=\"text-align: right;\">\n",
       "      <th></th>\n",
       "      <th>id</th>\n",
       "      <th>isbn</th>\n",
       "      <th>genre</th>\n",
       "      <th>title</th>\n",
       "      <th>author</th>\n",
       "      <th>rate</th>\n",
       "      <th>book_url</th>\n",
       "    </tr>\n",
       "  </thead>\n",
       "  <tbody>\n",
       "  </tbody>\n",
       "</table>\n",
       "</div>"
      ],
      "text/plain": [
       "Empty DataFrame\n",
       "Columns: [id, isbn, genre, title, author, rate, book_url]\n",
       "Index: []"
      ]
     },
     "metadata": {},
     "output_type": "display_data"
    },
    {
     "data": {
      "text/html": [
       "<div>\n",
       "<style scoped>\n",
       "    .dataframe tbody tr th:only-of-type {\n",
       "        vertical-align: middle;\n",
       "    }\n",
       "\n",
       "    .dataframe tbody tr th {\n",
       "        vertical-align: top;\n",
       "    }\n",
       "\n",
       "    .dataframe thead th {\n",
       "        text-align: right;\n",
       "    }\n",
       "</style>\n",
       "<table border=\"1\" class=\"dataframe\">\n",
       "  <thead>\n",
       "    <tr style=\"text-align: right;\">\n",
       "      <th></th>\n",
       "      <th>id</th>\n",
       "      <th>isbn</th>\n",
       "      <th>genre</th>\n",
       "      <th>title</th>\n",
       "      <th>author</th>\n",
       "      <th>rate</th>\n",
       "      <th>book_url</th>\n",
       "    </tr>\n",
       "  </thead>\n",
       "  <tbody>\n",
       "  </tbody>\n",
       "</table>\n",
       "</div>"
      ],
      "text/plain": [
       "Empty DataFrame\n",
       "Columns: [id, isbn, genre, title, author, rate, book_url]\n",
       "Index: []"
      ]
     },
     "metadata": {},
     "output_type": "display_data"
    },
    {
     "data": {
      "text/html": [
       "<div>\n",
       "<style scoped>\n",
       "    .dataframe tbody tr th:only-of-type {\n",
       "        vertical-align: middle;\n",
       "    }\n",
       "\n",
       "    .dataframe tbody tr th {\n",
       "        vertical-align: top;\n",
       "    }\n",
       "\n",
       "    .dataframe thead th {\n",
       "        text-align: right;\n",
       "    }\n",
       "</style>\n",
       "<table border=\"1\" class=\"dataframe\">\n",
       "  <thead>\n",
       "    <tr style=\"text-align: right;\">\n",
       "      <th></th>\n",
       "      <th>id</th>\n",
       "      <th>isbn</th>\n",
       "      <th>genre</th>\n",
       "      <th>title</th>\n",
       "      <th>author</th>\n",
       "      <th>rate</th>\n",
       "      <th>book_url</th>\n",
       "    </tr>\n",
       "  </thead>\n",
       "  <tbody>\n",
       "  </tbody>\n",
       "</table>\n",
       "</div>"
      ],
      "text/plain": [
       "Empty DataFrame\n",
       "Columns: [id, isbn, genre, title, author, rate, book_url]\n",
       "Index: []"
      ]
     },
     "metadata": {},
     "output_type": "display_data"
    },
    {
     "data": {
      "text/html": [
       "<div>\n",
       "<style scoped>\n",
       "    .dataframe tbody tr th:only-of-type {\n",
       "        vertical-align: middle;\n",
       "    }\n",
       "\n",
       "    .dataframe tbody tr th {\n",
       "        vertical-align: top;\n",
       "    }\n",
       "\n",
       "    .dataframe thead th {\n",
       "        text-align: right;\n",
       "    }\n",
       "</style>\n",
       "<table border=\"1\" class=\"dataframe\">\n",
       "  <thead>\n",
       "    <tr style=\"text-align: right;\">\n",
       "      <th></th>\n",
       "      <th>id</th>\n",
       "      <th>isbn</th>\n",
       "      <th>genre</th>\n",
       "      <th>title</th>\n",
       "      <th>author</th>\n",
       "      <th>rate</th>\n",
       "      <th>book_url</th>\n",
       "    </tr>\n",
       "  </thead>\n",
       "  <tbody>\n",
       "  </tbody>\n",
       "</table>\n",
       "</div>"
      ],
      "text/plain": [
       "Empty DataFrame\n",
       "Columns: [id, isbn, genre, title, author, rate, book_url]\n",
       "Index: []"
      ]
     },
     "metadata": {},
     "output_type": "display_data"
    },
    {
     "data": {
      "text/html": [
       "<div>\n",
       "<style scoped>\n",
       "    .dataframe tbody tr th:only-of-type {\n",
       "        vertical-align: middle;\n",
       "    }\n",
       "\n",
       "    .dataframe tbody tr th {\n",
       "        vertical-align: top;\n",
       "    }\n",
       "\n",
       "    .dataframe thead th {\n",
       "        text-align: right;\n",
       "    }\n",
       "</style>\n",
       "<table border=\"1\" class=\"dataframe\">\n",
       "  <thead>\n",
       "    <tr style=\"text-align: right;\">\n",
       "      <th></th>\n",
       "      <th>id</th>\n",
       "      <th>isbn</th>\n",
       "      <th>genre</th>\n",
       "      <th>title</th>\n",
       "      <th>author</th>\n",
       "      <th>rate</th>\n",
       "      <th>book_url</th>\n",
       "    </tr>\n",
       "  </thead>\n",
       "  <tbody>\n",
       "  </tbody>\n",
       "</table>\n",
       "</div>"
      ],
      "text/plain": [
       "Empty DataFrame\n",
       "Columns: [id, isbn, genre, title, author, rate, book_url]\n",
       "Index: []"
      ]
     },
     "metadata": {},
     "output_type": "display_data"
    }
   ],
   "source": [
    "display(data[ data['id'] == 000])\n",
    "display(data[ data['isbn'] == 000])\n",
    "display(data[ data['genre'] == \"no_genre\"])\n",
    "display(data[ data['title'] == \"no_title\"])\n",
    "display(data[ data['author'] == \"no_author\"])"
   ]
  },
  {
   "cell_type": "code",
   "execution_count": 28,
   "metadata": {},
   "outputs": [
    {
     "data": {
      "text/html": [
       "<div>\n",
       "<style scoped>\n",
       "    .dataframe tbody tr th:only-of-type {\n",
       "        vertical-align: middle;\n",
       "    }\n",
       "\n",
       "    .dataframe tbody tr th {\n",
       "        vertical-align: top;\n",
       "    }\n",
       "\n",
       "    .dataframe thead th {\n",
       "        text-align: right;\n",
       "    }\n",
       "</style>\n",
       "<table border=\"1\" class=\"dataframe\">\n",
       "  <thead>\n",
       "    <tr style=\"text-align: right;\">\n",
       "      <th></th>\n",
       "      <th>id</th>\n",
       "      <th>isbn</th>\n",
       "      <th>genre</th>\n",
       "      <th>title</th>\n",
       "      <th>author</th>\n",
       "      <th>rate</th>\n",
       "      <th>book_url</th>\n",
       "    </tr>\n",
       "  </thead>\n",
       "  <tbody>\n",
       "    <tr>\n",
       "      <th>79</th>\n",
       "      <td>975905</td>\n",
       "      <td>978-5-00214-354-2</td>\n",
       "      <td>[Современная отечественная проза]</td>\n",
       "      <td>Шесть зимних ночей</td>\n",
       "      <td>[Торин Владимир Витальевич, Той Кристина, Поку...</td>\n",
       "      <td>8.46</td>\n",
       "      <td>https://www.labirint.ru/books/975905/</td>\n",
       "    </tr>\n",
       "  </tbody>\n",
       "</table>\n",
       "</div>"
      ],
      "text/plain": [
       "        id               isbn                              genre  \\\n",
       "79  975905  978-5-00214-354-2  [Современная отечественная проза]   \n",
       "\n",
       "                 title                                             author  \\\n",
       "79  Шесть зимних ночей  [Торин Владимир Витальевич, Той Кристина, Поку...   \n",
       "\n",
       "    rate                               book_url  \n",
       "79  8.46  https://www.labirint.ru/books/975905/  "
      ]
     },
     "execution_count": 28,
     "metadata": {},
     "output_type": "execute_result"
    }
   ],
   "source": [
    "# Проверка, что все авторы попали в список\n",
    "data[data[\"title\"] == \"Шесть зимних ночей\"]"
   ]
  },
  {
   "cell_type": "code",
   "execution_count": 29,
   "metadata": {},
   "outputs": [
    {
     "data": {
      "text/html": [
       "<div>\n",
       "<style scoped>\n",
       "    .dataframe tbody tr th:only-of-type {\n",
       "        vertical-align: middle;\n",
       "    }\n",
       "\n",
       "    .dataframe tbody tr th {\n",
       "        vertical-align: top;\n",
       "    }\n",
       "\n",
       "    .dataframe thead th {\n",
       "        text-align: right;\n",
       "    }\n",
       "</style>\n",
       "<table border=\"1\" class=\"dataframe\">\n",
       "  <thead>\n",
       "    <tr style=\"text-align: right;\">\n",
       "      <th></th>\n",
       "      <th>id</th>\n",
       "      <th>isbn</th>\n",
       "      <th>genre</th>\n",
       "      <th>title</th>\n",
       "      <th>author</th>\n",
       "      <th>rate</th>\n",
       "      <th>book_url</th>\n",
       "    </tr>\n",
       "  </thead>\n",
       "  <tbody>\n",
       "    <tr>\n",
       "      <th>262</th>\n",
       "      <td>758452</td>\n",
       "      <td>978-5-222-33531-4</td>\n",
       "      <td>[Классическая зарубежная проза]</td>\n",
       "      <td>Зов Ктулху</td>\n",
       "      <td>[Лавкрафт Говард Филлипс]</td>\n",
       "      <td>8.5</td>\n",
       "      <td>https://www.labirint.ru/books/758452/</td>\n",
       "    </tr>\n",
       "  </tbody>\n",
       "</table>\n",
       "</div>"
      ],
      "text/plain": [
       "         id               isbn                            genre       title  \\\n",
       "262  758452  978-5-222-33531-4  [Классическая зарубежная проза]  Зов Ктулху   \n",
       "\n",
       "                        author  rate                               book_url  \n",
       "262  [Лавкрафт Говард Филлипс]   8.5  https://www.labirint.ru/books/758452/  "
      ]
     },
     "execution_count": 29,
     "metadata": {},
     "output_type": "execute_result"
    }
   ],
   "source": [
    "# Проверка, что в авторы не попали художники, редакторы и т.п.\n",
    "data[ data[\"title\"] == \"Зов Ктулху\"]"
   ]
  }
 ],
 "metadata": {
  "kernelspec": {
   "display_name": "Python 3",
   "language": "python",
   "name": "python3"
  },
  "language_info": {
   "codemirror_mode": {
    "name": "ipython",
    "version": 3
   },
   "file_extension": ".py",
   "mimetype": "text/x-python",
   "name": "python",
   "nbconvert_exporter": "python",
   "pygments_lexer": "ipython3",
   "version": "3.12.6"
  }
 },
 "nbformat": 4,
 "nbformat_minor": 2
}
